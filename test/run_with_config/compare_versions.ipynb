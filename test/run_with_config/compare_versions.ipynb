{
 "cells": [
  {
   "cell_type": "markdown",
   "metadata": {},
   "source": [
    "# Examine algorithm results for different versions (git commits) of the algorithm"
   ]
  },
  {
   "cell_type": "code",
   "execution_count": 2,
   "metadata": {},
   "outputs": [
    {
     "name": "stderr",
     "output_type": "stream",
     "text": [
      "2025-05-14 17:27:14,055 - INFO - Running local version with flags: ['-vnd']\n",
      "2025-05-14 17:27:14,056 - INFO - Spustenie algoritmu.\n",
      "2025-05-14 17:27:14,057 - INFO - Počet riadkov vstupného súboru: 10\n",
      "Spracovanie prípadov: 100%|██████████| 10/10 [00:00<00:00, 66.06it/s]\n",
      "2025-05-14 17:27:14,211 - INFO - Algoritmus dokončený. Výsledky sú v /Users/kvaky/prog/iza/OSN-Algoritmus-MS/test/data/example_data_10_v2025_2_output.csv\n",
      "2025-05-14 17:27:14,212 - INFO - Checking out and running version from ref: v2025.1 with flags: ['-vnd']\n",
      "2025-05-14 17:27:14,212 - INFO - Cloning repo\n",
      "2025-05-14 17:27:18,966 - INFO - Running algoritmus with command: /Users/kvaky/prog/iza/OSN-Algoritmus-MS/.venv/bin/python main.py /Users/kvaky/prog/iza/OSN-Algoritmus-MS/test/data/example_data_10_v2025_1.csv -vnd\n",
      "2025-05-14 17:27:19,293 - INFO - Removing cloned repository at /Users/kvaky/prog/iza/OSN-Algoritmus-MS/test/run_with_config/OSN-Algoritmus-MS\n",
      "2025-05-14 17:27:19,300 - INFO - Cleaning up created files\n"
     ]
    },
    {
     "name": "stdout",
     "output_type": "stream",
     "text": [
      "Aktivovaný prepínač 'Všetky výkony hlavné'. Pri vyhodnotení príloh sa bude predpokladať, že ktorýkoľvek z výkazaných výkonov mohol byť hlavný.\n",
      "Aktivovaný prepínač 'Vyhodnoť neúplné prípady'. V prípade, že nie je vyplnená nejaká povinná hodnota, aj tak sa bude pokračovať vo vyhodnocovaní.\n",
      "Aktivovaný prepínač 'Ponechaj duplicity'. Vo výstupnom zozname medicínskych služieb budú ponechané aj duplicitné záznamy.\n",
      "WARNING: HP P047/HP636932 nemá správne vyplnenú hmotnosť.\n",
      "WARNING: HP P012/HP478047 nemá správne vyplnenú hmotnosť.\n",
      "WARNING: HP P036/HP06382 nemá správne vyplnenú hmotnosť.\n",
      "WARNING: HP P041/HP364353 nemá správne vyplnenú hmotnosť.\n",
      "WARNING: HP P019/HP193179 nemá správne vyplnenú hmotnosť.\n",
      "WARNING: HP P041/HP679689 nemá správne vyplnenú hmotnosť.\n",
      "WARNING: HP P019/HP677267 nemá správne vyplnenú hmotnosť.\n",
      "WARNING: HP P022/HP552596 nemá správne vyplnenú hmotnosť.\n",
      "WARNING: HP P034/HP615703 nemá správne vyplnenú hmotnosť.\n",
      "WARNING: HP P032/HP433460 nemá správne vyplnenú hmotnosť.\n"
     ]
    },
    {
     "data": {
      "text/html": [
       "<div>\n",
       "<style scoped>\n",
       "    .dataframe tbody tr th:only-of-type {\n",
       "        vertical-align: middle;\n",
       "    }\n",
       "\n",
       "    .dataframe tbody tr th {\n",
       "        vertical-align: top;\n",
       "    }\n",
       "\n",
       "    .dataframe thead th {\n",
       "        text-align: right;\n",
       "    }\n",
       "</style>\n",
       "<table border=\"1\" class=\"dataframe\">\n",
       "  <thead>\n",
       "    <tr style=\"text-align: right;\">\n",
       "      <th></th>\n",
       "      <th>id</th>\n",
       "      <th>vek</th>\n",
       "      <th>hmotnost</th>\n",
       "      <th>umela_plucna_ventilacia</th>\n",
       "      <th>diagnozy</th>\n",
       "      <th>vykony</th>\n",
       "      <th>markery</th>\n",
       "      <th>drg</th>\n",
       "      <th>druh_prijatia</th>\n",
       "      <th>ms_v2025.2</th>\n",
       "      <th>ms_v2025.1</th>\n",
       "    </tr>\n",
       "  </thead>\n",
       "  <tbody>\n",
       "    <tr>\n",
       "      <th>4</th>\n",
       "      <td>P019/HP193179</td>\n",
       "      <td>78</td>\n",
       "      <td>NaN</td>\n",
       "      <td>0</td>\n",
       "      <td>M171</td>\n",
       "      <td>8v1d1@32108@5t5211</td>\n",
       "      <td>mOSN&amp;nopol</td>\n",
       "      <td>I44B</td>\n",
       "      <td>3</td>\n",
       "      <td>[S13-46]</td>\n",
       "      <td>[S99-99]</td>\n",
       "    </tr>\n",
       "  </tbody>\n",
       "</table>\n",
       "</div>"
      ],
      "text/plain": [
       "              id  vek  hmotnost  umela_plucna_ventilacia diagnozy  \\\n",
       "4  P019/HP193179   78       NaN                        0     M171   \n",
       "\n",
       "               vykony     markery   drg  druh_prijatia ms_v2025.2 ms_v2025.1  \n",
       "4  8v1d1@32108@5t5211  mOSN&nopol  I44B              3   [S13-46]   [S99-99]  "
      ]
     },
     "execution_count": 2,
     "metadata": {},
     "output_type": "execute_result"
    }
   ],
   "source": [
    "from pathlib import Path\n",
    "\n",
    "from run_with_config import RunConfig, run_and_compare\n",
    "\n",
    "flags = [\"-vnd\"]\n",
    "version_2025_2 = RunConfig(\n",
    "    source=\"local\",\n",
    "    identifier=\"v2025.2\",\n",
    "    csv_delimiter=\"|\",\n",
    "    input_path=Path(\"../data/example_data_10_v2025_2.csv\"),\n",
    "    flags=flags,\n",
    ")\n",
    "version_2025_1 = RunConfig(\n",
    "    source=\"v2025.1\",\n",
    "    identifier=\"v2025.1\",\n",
    "    csv_delimiter=\";\",\n",
    "    input_path=Path(\"../data/example_data_10_v2025_1.csv\"),\n",
    "    flags=flags,\n",
    ")\n",
    "differences = run_and_compare(version_2025_2, version_2025_1)\n",
    "differences"
   ]
  },
  {
   "cell_type": "code",
   "execution_count": null,
   "metadata": {},
   "outputs": [],
   "source": []
  }
 ],
 "metadata": {
  "kernelspec": {
   "display_name": ".venv",
   "language": "python",
   "name": "python3"
  },
  "language_info": {
   "codemirror_mode": {
    "name": "ipython",
    "version": 3
   },
   "file_extension": ".py",
   "mimetype": "text/x-python",
   "name": "python",
   "nbconvert_exporter": "python",
   "pygments_lexer": "ipython3",
   "version": "3.11.11"
  }
 },
 "nbformat": 4,
 "nbformat_minor": 2
}
