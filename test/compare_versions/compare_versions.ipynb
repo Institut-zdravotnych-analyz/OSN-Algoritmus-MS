{
 "cells": [
  {
   "cell_type": "markdown",
   "metadata": {},
   "source": [
    "# Examine algorithm results for different versions (git commits) of the algorithm"
   ]
  },
  {
   "cell_type": "code",
   "execution_count": null,
   "metadata": {},
   "outputs": [],
   "source": [
    "from compare_versions import VersionConfig, run_and_compare\n",
    "\n",
    "flags = [\"-vnd\"]\n",
    "version_a = VersionConfig(version=\"local\", flags=flags)\n",
    "version_b = VersionConfig(version=\"v2024.2.2\", flags=flags)\n",
    "differences = run_and_compare(\"../data/example_data_10.csv\", version_a, version_b)\n",
    "differences"
   ]
  }
 ],
 "metadata": {
  "kernelspec": {
   "display_name": ".venv",
   "language": "python",
   "name": "python3"
  },
  "language_info": {
   "codemirror_mode": {
    "name": "ipython",
    "version": 3
   },
   "file_extension": ".py",
   "mimetype": "text/x-python",
   "name": "python",
   "nbconvert_exporter": "python",
   "pygments_lexer": "ipython3",
   "version": "3.11.11"
  }
 },
 "nbformat": 4,
 "nbformat_minor": 2
}
