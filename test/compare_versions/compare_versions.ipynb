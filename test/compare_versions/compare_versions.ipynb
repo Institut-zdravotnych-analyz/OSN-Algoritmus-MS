{
 "cells": [
  {
   "cell_type": "markdown",
   "metadata": {},
   "source": [
    "# Examine algorithm results for different versions (git commits) of the algorithm"
   ]
  },
  {
   "cell_type": "code",
   "execution_count": 4,
   "metadata": {},
   "outputs": [
    {
     "name": "stdout",
     "output_type": "stream",
     "text": [
      "Fetching repo\n",
      "Running version A: create_tests\n",
      "Installing package\n",
      "Running algorithm\n",
      "Aktivovaný prepínač 'Všetky výkony hlavné'. Pri vyhodnotení príloh sa bude predpokladať, že ktorýkoľvek z výkazaných výkonov mohol byť hlavný.\n",
      "Aktivovaný prepínač 'Vyhodnoť neúplné prípady'. V prípade, že nie je vyplnená nejaká povinná hodnota, aj tak sa bude pokračovať vo vyhodnocovaní.\n",
      "Aktivovaný prepínač 'Ponechaj duplicity'. Vo výstupnom zozname medicínskych služieb budú ponechané aj duplicitné záznamy.\n",
      "WARNING: HP P027/HP613843 nemá správne vyplnenú hmotnosť.\n",
      "Running version B: v2025.1\n",
      "Running algorithm\n",
      "Aktivovaný prepínač 'Všetky výkony hlavné'. Pri vyhodnotení príloh sa bude predpokladať, že ktorýkoľvek z výkazaných výkonov mohol byť hlavný.\n",
      "Aktivovaný prepínač 'Vyhodnoť neúplné prípady'. V prípade, že nie je vyplnená nejaká povinná hodnota, aj tak sa bude pokračovať vo vyhodnocovaní.\n",
      "Aktivovaný prepínač 'Ponechaj duplicity'. Vo výstupnom zozname medicínskych služieb budú ponechané aj duplicitné záznamy.\n",
      "WARNING: HP P019/HP663449 nemá správne vyplnenú hmotnosť.\n",
      "WARNING: HP P063/HP678806 nemá správne vyplnenú hmotnosť.\n",
      "WARNING: HP P017/HP223780 nemá správne vyplnenú hmotnosť.\n",
      "WARNING: HP P067/HP354818 nemá správne vyplnenú hmotnosť.\n",
      "WARNING: HP P027/HP613843 nemá správne vyplnenú hmotnosť.\n",
      "WARNING: HP P032/HP22375 nemá správne vyplnenú hmotnosť.\n",
      "WARNING: HP P035/HP699866 nemá správne vyplnenú hmotnosť.\n",
      "WARNING: HP P063/HP678762 nemá správne vyplnenú hmotnosť.\n",
      "WARNING: HP P005/HP257899 nemá správne vyplnenú hmotnosť.\n",
      "Cleaning up files for create_tests and v2025.1\n"
     ]
    }
   ],
   "source": [
    "from compare_versions import run_and_compare\n",
    "\n",
    "version_A = \"create_tests\"\n",
    "version_B = \"v2025.1\"\n",
    "\n",
    "differences = run_and_compare(\n",
    "    version_A,\n",
    "    version_B,\n",
    "    \"../data/test_data_9.csv\",\n",
    "    flags=\"vnd\",\n",
    ")"
   ]
  },
  {
   "cell_type": "code",
   "execution_count": 5,
   "metadata": {},
   "outputs": [
    {
     "data": {
      "text/html": [
       "<div>\n",
       "<style scoped>\n",
       "    .dataframe tbody tr th:only-of-type {\n",
       "        vertical-align: middle;\n",
       "    }\n",
       "\n",
       "    .dataframe tbody tr th {\n",
       "        vertical-align: top;\n",
       "    }\n",
       "\n",
       "    .dataframe thead th {\n",
       "        text-align: right;\n",
       "    }\n",
       "</style>\n",
       "<table border=\"1\" class=\"dataframe\">\n",
       "  <thead>\n",
       "    <tr style=\"text-align: right;\">\n",
       "      <th></th>\n",
       "      <th>id</th>\n",
       "      <th>vek</th>\n",
       "      <th>hmotnost</th>\n",
       "      <th>umela_plucna_ventilacia</th>\n",
       "      <th>diagnozy</th>\n",
       "      <th>vykony</th>\n",
       "      <th>drg</th>\n",
       "      <th>ms_create_tests</th>\n",
       "      <th>ms_v2025.1</th>\n",
       "    </tr>\n",
       "  </thead>\n",
       "  <tbody>\n",
       "  </tbody>\n",
       "</table>\n",
       "</div>"
      ],
      "text/plain": [
       "Empty DataFrame\n",
       "Columns: [id, vek, hmotnost, umela_plucna_ventilacia, diagnozy, vykony, drg, ms_create_tests, ms_v2025.1]\n",
       "Index: []"
      ]
     },
     "execution_count": 5,
     "metadata": {},
     "output_type": "execute_result"
    }
   ],
   "source": [
    "differences"
   ]
  }
 ],
 "metadata": {
  "kernelspec": {
   "display_name": ".venv",
   "language": "python",
   "name": "python3"
  },
  "language_info": {
   "codemirror_mode": {
    "name": "ipython",
    "version": 3
   },
   "file_extension": ".py",
   "mimetype": "text/x-python",
   "name": "python",
   "nbconvert_exporter": "python",
   "pygments_lexer": "ipython3",
   "version": "3.11.11"
  }
 },
 "nbformat": 4,
 "nbformat_minor": 2
}
