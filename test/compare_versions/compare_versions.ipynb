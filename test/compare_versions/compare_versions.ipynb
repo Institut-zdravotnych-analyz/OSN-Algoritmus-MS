{
 "cells": [
  {
   "cell_type": "markdown",
   "metadata": {},
   "source": [
    "# Examine algorithm results for different versions (git commits) of the algorithm"
   ]
  },
  {
   "cell_type": "markdown",
   "metadata": {},
   "source": [
    "Currently doesn't work as the input file format has changed (`markery` and `druh_prijatia` columns were added)"
   ]
  },
  {
   "cell_type": "code",
   "execution_count": null,
   "metadata": {},
   "outputs": [],
   "source": [
    "from compare_versions import VersionConfig, run_and_compare\n",
    "\n",
    "flags = [\"-vnd\"]\n",
    "version_a = VersionConfig(identifier=\"local\", flags=flags)\n",
    "version_b = VersionConfig(identifier=\"v2024.2.2\", flags=flags)\n",
    "differences = run_and_compare(\"../data/example_data_10.csv\", version_a, version_b)\n",
    "differences"
   ]
  },
  {
   "cell_type": "markdown",
   "metadata": {},
   "source": [
    "This works though:"
   ]
  },
  {
   "cell_type": "code",
   "execution_count": 1,
   "metadata": {},
   "outputs": [
    {
     "name": "stderr",
     "output_type": "stream",
     "text": [
      "2025-05-08 13:16:15,367 - INFO - Running local version with flags: ['-vnd']\n"
     ]
    },
    {
     "data": {
      "text/plain": [
       "PosixPath('../data/example_data_10_local_-vnd.csv')"
      ]
     },
     "execution_count": 1,
     "metadata": {},
     "output_type": "execute_result"
    }
   ],
   "source": [
    "from pathlib import Path\n",
    "\n",
    "from compare_versions import run_algoritmus, VersionConfig\n",
    "\n",
    "flags = [\"-vnd\"]\n",
    "version_a = VersionConfig(identifier=\"local\", flags=flags)\n",
    "run_algoritmus(version_a, Path(\"../data/example_data_10.csv\"))"
   ]
  }
 ],
 "metadata": {
  "kernelspec": {
   "display_name": ".venv",
   "language": "python",
   "name": "python3"
  },
  "language_info": {
   "codemirror_mode": {
    "name": "ipython",
    "version": 3
   },
   "file_extension": ".py",
   "mimetype": "text/x-python",
   "name": "python",
   "nbconvert_exporter": "python",
   "pygments_lexer": "ipython3",
   "version": "3.11.11"
  }
 },
 "nbformat": 4,
 "nbformat_minor": 2
}
